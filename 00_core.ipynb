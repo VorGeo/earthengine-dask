{
 "cells": [
  {
   "cell_type": "markdown",
   "metadata": {},
   "source": [
    "# core\n",
    "\n",
    "> Core functionality for distributing Earth Engine requests among Dask workers."
   ]
  },
  {
   "cell_type": "code",
   "execution_count": null,
   "metadata": {},
   "outputs": [],
   "source": [
    "#| default_exp core"
   ]
  },
  {
   "cell_type": "code",
   "execution_count": null,
   "metadata": {},
   "outputs": [],
   "source": [
    "#| hide\n",
    "from nbdev.showdoc import *"
   ]
  },
  {
   "cell_type": "code",
   "execution_count": null,
   "metadata": {},
   "outputs": [],
   "source": [
    "#| export\n",
    "import coiled\n",
    "import dask.distributed\n",
    "import ee\n",
    "import google.auth"
   ]
  },
  {
   "cell_type": "code",
   "execution_count": null,
   "metadata": {},
   "outputs": [],
   "source": [
    "#| export\n",
    "class InitEarthEngine(dask.distributed.WorkerPlugin):\n",
    "    def __init__(self, **kwargs):\n",
    "        print('InitEarthEngine.init: starting')  # This appears in the notebook output where the cluster is initiated.\n",
    "        self.kwargs = kwargs\n",
    "        print(f'InitEarthEngine.init: kwargs = {kwargs}')\n",
    "\n",
    "    def setup(self, worker):\n",
    "        # Print statements output to the dask cluster logs (viewable via Coiled dashboard)\n",
    "        print('InitEarthEngine.setup: starting')\n",
    "        print('InitEarthEngine.setup: default to using the high volume endpoint')\n",
    "        self.kwargs.setdefault('opt_url', 'https://earthengine-highvolume.googleapis.com')\n",
    "        import ee\n",
    "        print(f'InitEarthEngine.setup: ee.Initialize(**{self.kwargs})')\n",
    "        ee.Initialize(**self.kwargs)\n",
    "\n",
    "\n",
    "class ClusterGEE(coiled.Cluster):\n",
    "    def __init__(self, **kwargs):\n",
    "        print('ClusterGEE init')\n",
    "        super().__init__(**kwargs)\n",
    "        # Wait for the workers to start, then send the ADCs\n",
    "        self.wait_for_workers(kwargs['n_workers'])\n",
    "        coiled.credentials.google.send_application_default_credentials(self)\n",
    "\n",
    "    def get_client(self):\n",
    "        print('ClusterGEE get_client')\n",
    "        client = super().get_client()\n",
    "        client.register_plugin(InitEarthEngine())\n",
    "        return client\n",
    "\n",
    "\n",
    "# For local development\n",
    "class LocalClusterGEE(dask.distributed.LocalCluster):    \n",
    "    def __init__(self, **kwargs):\n",
    "        print('LocalClusterGEE init')\n",
    "        super().__init__(**kwargs)\n",
    "\n",
    "    def get_client(self):\n",
    "        print('LocalClusterGEE get_client')\n",
    "        client = super().get_client()\n",
    "        client.register_plugin(InitEarthEngine())\n",
    "        return client"
   ]
  },
  {
   "cell_type": "markdown",
   "metadata": {},
   "source": [
    "# Try it out\n",
    "\n",
    "Create a cluster and run a few jobs."
   ]
  },
  {
   "cell_type": "markdown",
   "metadata": {},
   "source": [
    "## Authenticate & Initialize Earth Engine"
   ]
  },
  {
   "cell_type": "markdown",
   "metadata": {},
   "source": [
    "Get credentials and the GCP project ID, authenticating if necessary."
   ]
  },
  {
   "cell_type": "code",
   "execution_count": null,
   "metadata": {},
   "outputs": [],
   "source": [
    "try:\n",
    "    credentials, project_id = google.auth.default()\n",
    "except google.auth.exceptions.DefaultCredentialsError:\n",
    "    print('Unable to get auth credentials. Initiating auth flow.')\n",
    "    !gcloud auth application-default login\n",
    "    credentials, project_id = google.auth.default()\n",
    "try:\n",
    "    ee.Initialize(credentials=credentials, project=project_id)\n",
    "except google.auth.exceptions.RefreshError:\n",
    "    print('Credentials refresh error. Initiating auth flow.')\n",
    "    !gcloud auth application-default login\n",
    "    credentials, project_id = google.auth.default()\n",
    "ee.Initialize(credentials=credentials, project=project_id)"
   ]
  },
  {
   "cell_type": "markdown",
   "metadata": {},
   "source": [
    "# Start Dask Cluster\n",
    "\n",
    "Start up a Earth Engine enabled cluster. This may take a few minutes to complete."
   ]
  },
  {
   "cell_type": "code",
   "execution_count": null,
   "metadata": {},
   "outputs": [],
   "source": [
    "cluster = ClusterGEE(\n",
    "    name='test-class-cluster',\n",
    "    n_workers=1,\n",
    "    worker_cpu=4,\n",
    "    spot_policy=\"spot_with_fallback\",\n",
    "    region='us-central1',\n",
    "    idle_timeout=\"1 hours\",\n",
    ")\n",
    "# cluster = LocalClusterGEE()"
   ]
  },
  {
   "cell_type": "markdown",
   "metadata": {},
   "source": [
    "Retrieve a client for the cluster, and display it."
   ]
  },
  {
   "cell_type": "code",
   "execution_count": null,
   "metadata": {},
   "outputs": [],
   "source": [
    "client = cluster.get_client()\n",
    "client"
   ]
  },
  {
   "cell_type": "markdown",
   "metadata": {},
   "source": [
    "# Submit Jobs\n",
    "\n",
    "Test it out by:\n",
    "- Defining a function that can be distributed,\n",
    "- Submitting jobs running the function to workers, \n",
    "- Gathering the results locally, and\n",
    "- Displaying the results"
   ]
  },
  {
   "cell_type": "code",
   "execution_count": null,
   "metadata": {},
   "outputs": [],
   "source": [
    "# Get a list of countries to analyze.\n",
    "country_fc = ee.FeatureCollection('USDOS/LSIB_SIMPLE/2017')\n",
    "country_list = country_fc.aggregate_array('country_na').distinct().sort().getInfo()\n",
    "\n",
    "import random\n",
    "\n",
    "# Write a function that can be run by the cluster workers. \n",
    "def get_country_stats(country_name):\n",
    "    country = country_fc.filter(ee.Filter.eq('country_na', country_name))\n",
    "    elev = ee.ImageCollection(\"COPERNICUS/DEM/GLO30\").select('DEM').mosaic()\n",
    "    return {\n",
    "        'country': country_name, \n",
    "        'area_km2': country.geometry().area().multiply(1e-6).round().getInfo(), \n",
    "        'mean_elev': elev.reduceRegion(reducer=ee.Reducer.mean(),\n",
    "                                       geometry=country.geometry(),\n",
    "                                       scale=10000,\n",
    "                                       ).get('DEM').getInfo(),\n",
    "    }\n",
    "\n",
    "\n",
    "# Create and submit jobs among the workers.\n",
    "print('Submitting jobs...')\n",
    "futures = [\n",
    "    client.submit(get_country_stats, country, retries=3)\n",
    "    for country in ['Abyei Area', 'Zimbabwe']\n",
    "]\n",
    "print('...done')\n",
    "\n",
    "# Gather up the results and display them.\n",
    "print('Gathering results...')\n",
    "results = client.gather(futures)\n",
    "print('...done')\n",
    "results"
   ]
  },
  {
   "cell_type": "markdown",
   "metadata": {},
   "source": [
    "# Shut down the cluster."
   ]
  },
  {
   "cell_type": "code",
   "execution_count": null,
   "metadata": {},
   "outputs": [],
   "source": [
    "cluster.shutdown()"
   ]
  },
  {
   "cell_type": "code",
   "execution_count": null,
   "metadata": {},
   "outputs": [],
   "source": [
    "#| hide\n",
    "import nbdev; nbdev.nbdev_export()"
   ]
  },
  {
   "cell_type": "code",
   "execution_count": null,
   "metadata": {},
   "outputs": [],
   "source": []
  }
 ],
 "metadata": {
  "kernelspec": {
   "display_name": "python3",
   "language": "python",
   "name": "python3"
  }
 },
 "nbformat": 4,
 "nbformat_minor": 4
}
