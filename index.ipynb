{
 "cells": [
  {
   "cell_type": "code",
   "execution_count": null,
   "metadata": {},
   "outputs": [],
   "source": [
    "#| hide\n"
   ]
  },
  {
   "cell_type": "markdown",
   "metadata": {},
   "source": [
    "# earthengine-dask\n",
    "\n",
    "> Scale up concurrent requests to Earth Engine interactive endpoints with Dask"
   ]
  },
  {
   "cell_type": "markdown",
   "metadata": {},
   "source": [
    "This file will become your README and also the index of your documentation."
   ]
  },
  {
   "cell_type": "markdown",
   "metadata": {},
   "source": [
    "# Prerequisites\n",
    "\n",
    "- A [Google Earth Engine](https://earthengine.google.com/) account.\n",
    "- Access to a Google Cloud Platform (GCP) [project with the Earth Engine API enabled](https://developers.google.com/earth-engine/cloud/earthengine_cloud_project_setup).\n",
    "- A [Coiled](https://www.coiled.io/) account that is [setup to use the GCP project](https://docs.coiled.io/user_guide/setup/gcp/cli.html)."
   ]
  },
  {
   "cell_type": "markdown",
   "metadata": {},
   "source": [
    "## Install with PIP"
   ]
  },
  {
   "cell_type": "markdown",
   "metadata": {},
   "source": [
    "```sh\n",
    "pip install earthengine_dask\n",
    "```"
   ]
  },
  {
   "cell_type": "markdown",
   "metadata": {},
   "source": [
    "## How to use"
   ]
  },
  {
   "cell_type": "markdown",
   "metadata": {},
   "source": [
    "## Import Python packages"
   ]
  },
  {
   "cell_type": "code",
   "execution_count": null,
   "metadata": {},
   "outputs": [],
   "source": [
    "import altair as alt\n",
    "import ee\n",
    "from earthengine_dask.core import ClusterGEE\n",
    "import google.auth\n",
    "import pandas as pd"
   ]
  },
  {
   "cell_type": "markdown",
   "metadata": {},
   "source": [
    "## Authenticate & Initialize Earth Engine"
   ]
  },
  {
   "cell_type": "markdown",
   "metadata": {},
   "source": [
    "Get credentials and the GCP project ID, authenticating if necessary."
   ]
  },
  {
   "cell_type": "code",
   "execution_count": null,
   "metadata": {},
   "outputs": [],
   "source": [
    "try:\n",
    "    credentials, project_id = google.auth.default()\n",
    "except google.auth.exceptions.DefaultCredentialsError:\n",
    "    !gcloud auth application-default login\n",
    "    credentials, project_id = google.auth.default()\n",
    "\n",
    "ee.Initialize(credentials=credentials, project=project_id)"
   ]
  },
  {
   "cell_type": "markdown",
   "metadata": {},
   "source": [
    "# Start Dask Cluster\n",
    "\n",
    "Start up a Earth Engine enabled cluster. This may take a few minutes to complete."
   ]
  },
  {
   "cell_type": "code",
   "execution_count": null,
   "metadata": {},
   "outputs": [
    {
     "data": {
      "application/vnd.jupyter.widget-view+json": {
       "model_id": "c4d1ed41c91d40ec94ef5ee1bec441c5",
       "version_major": 2,
       "version_minor": 0
      },
      "text/plain": [
       "Output()"
      ]
     },
     "metadata": {},
     "output_type": "display_data"
    },
    {
     "data": {
      "text/html": [
       "<pre style=\"white-space:pre;overflow-x:auto;line-height:normal;font-family:Menlo,'DejaVu Sans Mono',consolas,'Courier New',monospace\"></pre>\n"
      ],
      "text/plain": []
     },
     "metadata": {},
     "output_type": "display_data"
    },
    {
     "data": {
      "text/html": [
       "<pre style=\"white-space:pre;overflow-x:auto;line-height:normal;font-family:Menlo,'DejaVu Sans Mono',consolas,'Courier New',monospace\">╭──────────────────────────────── <span style=\"color: #008000; text-decoration-color: #008000; font-weight: bold\">Package Info</span> ────────────────────────────────╮\n",
       "│                                 ╷                                            │\n",
       "│  <span style=\"font-weight: bold\"> Package                       </span>│<span style=\"font-weight: bold\"> Note                                     </span>  │\n",
       "│ ╶───────────────────────────────┼──────────────────────────────────────────╴ │\n",
       "│   coiled_local_earthengine_dask │ Source wheel built from                    │\n",
       "│                                 │ ~/Documents/GitHub/VorGeo/earthengine-da   │\n",
       "│                                 │ sk                                         │\n",
       "│                                 ╵                                            │\n",
       "╰──────────────────────────────────────────────────────────────────────────────╯\n",
       "</pre>\n"
      ],
      "text/plain": [
       "╭──────────────────────────────── \u001b[1;32mPackage Info\u001b[0m ────────────────────────────────╮\n",
       "│                                 ╷                                            │\n",
       "│  \u001b[1m \u001b[0m\u001b[1mPackage                      \u001b[0m\u001b[1m \u001b[0m│\u001b[1m \u001b[0m\u001b[1mNote                                    \u001b[0m\u001b[1m \u001b[0m  │\n",
       "│ ╶───────────────────────────────┼──────────────────────────────────────────╴ │\n",
       "│   coiled_local_earthengine_dask │ Source wheel built from                    │\n",
       "│                                 │ ~/Documents/GitHub/VorGeo/earthengine-da   │\n",
       "│                                 │ sk                                         │\n",
       "│                                 ╵                                            │\n",
       "╰──────────────────────────────────────────────────────────────────────────────╯\n"
      ]
     },
     "metadata": {},
     "output_type": "display_data"
    },
    {
     "data": {
      "application/vnd.jupyter.widget-view+json": {
       "model_id": "6418110aceaa431f885b7e3c7e150ca9",
       "version_major": 2,
       "version_minor": 0
      },
      "text/plain": [
       "Output()"
      ]
     },
     "metadata": {},
     "output_type": "display_data"
    },
    {
     "data": {
      "text/html": [
       "<pre style=\"white-space:pre;overflow-x:auto;line-height:normal;font-family:Menlo,'DejaVu Sans Mono',consolas,'Courier New',monospace\"></pre>\n"
      ],
      "text/plain": []
     },
     "metadata": {},
     "output_type": "display_data"
    },
    {
     "name": "stdout",
     "output_type": "stream",
     "text": [
      "Google Application Default Credentials have been written to a file on your Coiled VM(s).\n",
      "These credentials will potentially be valid until explicitly revoked by running\n",
      "gcloud auth application-default revoke\n"
     ]
    }
   ],
   "source": [
    "cluster = ClusterGEE(\n",
    "    name='test-class-cluster',\n",
    "    n_workers=2,\n",
    "    worker_cpu=8,\n",
    "    region='us-central1',\n",
    ")"
   ]
  },
  {
   "cell_type": "markdown",
   "metadata": {},
   "source": [
    "Retrieve a client for the cluster, and display it."
   ]
  },
  {
   "cell_type": "code",
   "execution_count": null,
   "metadata": {},
   "outputs": [
    {
     "data": {
      "text/html": [
       "<div>\n",
       "    <div style=\"width: 24px; height: 24px; background-color: #e1e1e1; border: 3px solid #9D9D9D; border-radius: 5px; position: absolute;\"> </div>\n",
       "    <div style=\"margin-left: 48px;\">\n",
       "        <h3 style=\"margin-bottom: 0px;\">Client</h3>\n",
       "        <p style=\"color: #9D9D9D; margin-bottom: 0px;\">Client-7bea3022-1a14-11ef-9d7a-fe11494405b6</p>\n",
       "        <table style=\"width: 100%; text-align: left;\">\n",
       "\n",
       "        <tr>\n",
       "        \n",
       "            <td style=\"text-align: left;\"><strong>Connection method:</strong> Cluster object</td>\n",
       "            <td style=\"text-align: left;\"><strong>Cluster type:</strong> earthengine_dask.ClusterGEE</td>\n",
       "        \n",
       "        </tr>\n",
       "\n",
       "        \n",
       "            <tr>\n",
       "                <td style=\"text-align: left;\">\n",
       "                    <strong>Dashboard: </strong> <a href=\"https://cluster-ddzeu.dask.host/bO1FM3wYgk4MnSTm/status\" target=\"_blank\">https://cluster-ddzeu.dask.host/bO1FM3wYgk4MnSTm/status</a>\n",
       "                </td>\n",
       "                <td style=\"text-align: left;\"></td>\n",
       "            </tr>\n",
       "        \n",
       "\n",
       "        </table>\n",
       "\n",
       "        \n",
       "\n",
       "        \n",
       "            <details>\n",
       "            <summary style=\"margin-bottom: 20px;\"><h3 style=\"display: inline;\">Cluster Info</h3></summary>\n",
       "            <div class=\"jp-RenderedHTMLCommon jp-RenderedHTML jp-mod-trusted jp-OutputArea-output\">\n",
       "    <div style=\"width: 24px; height: 24px; background-color: #e1e1e1; border: 3px solid #9D9D9D; border-radius: 5px; position: absolute;\">\n",
       "    </div>\n",
       "    <div style=\"margin-left: 48px;\">\n",
       "        <h3 style=\"margin-bottom: 0px; margin-top: 0px;\">ClusterGEE</h3>\n",
       "        <p style=\"color: #9D9D9D; margin-bottom: 0px;\">test-class-cluster</p>\n",
       "        <table style=\"width: 100%; text-align: left;\">\n",
       "            <tr>\n",
       "                <td style=\"text-align: left;\">\n",
       "                    <strong>Dashboard:</strong> <a href=\"https://cluster-ddzeu.dask.host/bO1FM3wYgk4MnSTm/status\" target=\"_blank\">https://cluster-ddzeu.dask.host/bO1FM3wYgk4MnSTm/status</a>\n",
       "                </td>\n",
       "                <td style=\"text-align: left;\">\n",
       "                    <strong>Workers:</strong> 2\n",
       "                </td>\n",
       "            </tr>\n",
       "            <tr>\n",
       "                <td style=\"text-align: left;\">\n",
       "                    <strong>Total threads:</strong> 16\n",
       "                </td>\n",
       "                <td style=\"text-align: left;\">\n",
       "                    <strong>Total memory:</strong> 61.18 GiB\n",
       "                </td>\n",
       "            </tr>\n",
       "            \n",
       "        </table>\n",
       "\n",
       "        <details>\n",
       "            <summary style=\"margin-bottom: 20px;\">\n",
       "                <h3 style=\"display: inline;\">Scheduler Info</h3>\n",
       "            </summary>\n",
       "\n",
       "            <div style=\"\">\n",
       "    <div>\n",
       "        <div style=\"width: 24px; height: 24px; background-color: #FFF7E5; border: 3px solid #FF6132; border-radius: 5px; position: absolute;\"> </div>\n",
       "        <div style=\"margin-left: 48px;\">\n",
       "            <h3 style=\"margin-bottom: 0px;\">Scheduler</h3>\n",
       "            <p style=\"color: #9D9D9D; margin-bottom: 0px;\">Scheduler-a29eebd5-7018-433a-a49a-669252201ecf</p>\n",
       "            <table style=\"width: 100%; text-align: left;\">\n",
       "                <tr>\n",
       "                    <td style=\"text-align: left;\">\n",
       "                        <strong>Comm:</strong> tls://10.2.0.16:8786\n",
       "                    </td>\n",
       "                    <td style=\"text-align: left;\">\n",
       "                        <strong>Workers:</strong> 2\n",
       "                    </td>\n",
       "                </tr>\n",
       "                <tr>\n",
       "                    <td style=\"text-align: left;\">\n",
       "                        <strong>Dashboard:</strong> <a href=\"http://10.2.0.16:8787/status\" target=\"_blank\">http://10.2.0.16:8787/status</a>\n",
       "                    </td>\n",
       "                    <td style=\"text-align: left;\">\n",
       "                        <strong>Total threads:</strong> 16\n",
       "                    </td>\n",
       "                </tr>\n",
       "                <tr>\n",
       "                    <td style=\"text-align: left;\">\n",
       "                        <strong>Started:</strong> Just now\n",
       "                    </td>\n",
       "                    <td style=\"text-align: left;\">\n",
       "                        <strong>Total memory:</strong> 61.18 GiB\n",
       "                    </td>\n",
       "                </tr>\n",
       "            </table>\n",
       "        </div>\n",
       "    </div>\n",
       "\n",
       "    <details style=\"margin-left: 48px;\">\n",
       "        <summary style=\"margin-bottom: 20px;\">\n",
       "            <h3 style=\"display: inline;\">Workers</h3>\n",
       "        </summary>\n",
       "\n",
       "        \n",
       "        <div style=\"margin-bottom: 20px;\">\n",
       "            <div style=\"width: 24px; height: 24px; background-color: #DBF5FF; border: 3px solid #4CC9FF; border-radius: 5px; position: absolute;\"> </div>\n",
       "            <div style=\"margin-left: 48px;\">\n",
       "            <details>\n",
       "                <summary>\n",
       "                    <h4 style=\"margin-bottom: 0px; display: inline;\">Worker: test-class-cluster-worker-a5409605fd</h4>\n",
       "                </summary>\n",
       "                <table style=\"width: 100%; text-align: left;\">\n",
       "                    <tr>\n",
       "                        <td style=\"text-align: left;\">\n",
       "                            <strong>Comm: </strong> tls://10.2.0.14:33295\n",
       "                        </td>\n",
       "                        <td style=\"text-align: left;\">\n",
       "                            <strong>Total threads: </strong> 8\n",
       "                        </td>\n",
       "                    </tr>\n",
       "                    <tr>\n",
       "                        <td style=\"text-align: left;\">\n",
       "                            <strong>Dashboard: </strong> <a href=\"http://10.2.0.14:8787/status\" target=\"_blank\">http://10.2.0.14:8787/status</a>\n",
       "                        </td>\n",
       "                        <td style=\"text-align: left;\">\n",
       "                            <strong>Memory: </strong> 30.60 GiB\n",
       "                        </td>\n",
       "                    </tr>\n",
       "                    <tr>\n",
       "                        <td style=\"text-align: left;\">\n",
       "                            <strong>Nanny: </strong> tls://10.2.0.14:45263\n",
       "                        </td>\n",
       "                        <td style=\"text-align: left;\"></td>\n",
       "                    </tr>\n",
       "                    <tr>\n",
       "                        <td colspan=\"2\" style=\"text-align: left;\">\n",
       "                            <strong>Local directory: </strong> /scratch/dask-scratch-space/worker-ng4w71pn\n",
       "                        </td>\n",
       "                    </tr>\n",
       "\n",
       "                    \n",
       "\n",
       "                    \n",
       "\n",
       "                </table>\n",
       "            </details>\n",
       "            </div>\n",
       "        </div>\n",
       "        \n",
       "        <div style=\"margin-bottom: 20px;\">\n",
       "            <div style=\"width: 24px; height: 24px; background-color: #DBF5FF; border: 3px solid #4CC9FF; border-radius: 5px; position: absolute;\"> </div>\n",
       "            <div style=\"margin-left: 48px;\">\n",
       "            <details>\n",
       "                <summary>\n",
       "                    <h4 style=\"margin-bottom: 0px; display: inline;\">Worker: test-class-cluster-worker-aad98fb41d</h4>\n",
       "                </summary>\n",
       "                <table style=\"width: 100%; text-align: left;\">\n",
       "                    <tr>\n",
       "                        <td style=\"text-align: left;\">\n",
       "                            <strong>Comm: </strong> tls://10.2.0.15:43029\n",
       "                        </td>\n",
       "                        <td style=\"text-align: left;\">\n",
       "                            <strong>Total threads: </strong> 8\n",
       "                        </td>\n",
       "                    </tr>\n",
       "                    <tr>\n",
       "                        <td style=\"text-align: left;\">\n",
       "                            <strong>Dashboard: </strong> <a href=\"http://10.2.0.15:8787/status\" target=\"_blank\">http://10.2.0.15:8787/status</a>\n",
       "                        </td>\n",
       "                        <td style=\"text-align: left;\">\n",
       "                            <strong>Memory: </strong> 30.58 GiB\n",
       "                        </td>\n",
       "                    </tr>\n",
       "                    <tr>\n",
       "                        <td style=\"text-align: left;\">\n",
       "                            <strong>Nanny: </strong> tls://10.2.0.15:36937\n",
       "                        </td>\n",
       "                        <td style=\"text-align: left;\"></td>\n",
       "                    </tr>\n",
       "                    <tr>\n",
       "                        <td colspan=\"2\" style=\"text-align: left;\">\n",
       "                            <strong>Local directory: </strong> /scratch/dask-scratch-space/worker-bcvdwwrg\n",
       "                        </td>\n",
       "                    </tr>\n",
       "\n",
       "                    \n",
       "\n",
       "                    \n",
       "\n",
       "                </table>\n",
       "            </details>\n",
       "            </div>\n",
       "        </div>\n",
       "        \n",
       "\n",
       "    </details>\n",
       "</div>\n",
       "\n",
       "        </details>\n",
       "    </div>\n",
       "</div>\n",
       "            </details>\n",
       "        \n",
       "\n",
       "    </div>\n",
       "</div>"
      ],
      "text/plain": [
       "<Client: 'tls://10.2.0.16:8786' processes=2 threads=16, memory=61.18 GiB>"
      ]
     },
     "execution_count": null,
     "metadata": {},
     "output_type": "execute_result"
    }
   ],
   "source": [
    "client = cluster.get_client()\n",
    "client"
   ]
  },
  {
   "cell_type": "markdown",
   "metadata": {},
   "source": [
    "# Submit Jobs\n",
    "\n",
    "Test it out by:\n",
    "- Defining a function that can be distributed,\n",
    "- Submitting jobs running the function to workers, \n",
    "- Gathering the results locally, and\n",
    "- Displaying the results"
   ]
  },
  {
   "cell_type": "code",
   "execution_count": null,
   "metadata": {},
   "outputs": [
    {
     "data": {
      "text/html": [
       "<div>\n",
       "<style scoped>\n",
       "    .dataframe tbody tr th:only-of-type {\n",
       "        vertical-align: middle;\n",
       "    }\n",
       "\n",
       "    .dataframe tbody tr th {\n",
       "        vertical-align: top;\n",
       "    }\n",
       "\n",
       "    .dataframe thead th {\n",
       "        text-align: right;\n",
       "    }\n",
       "</style>\n",
       "<table border=\"1\" class=\"dataframe\">\n",
       "  <thead>\n",
       "    <tr style=\"text-align: right;\">\n",
       "      <th></th>\n",
       "      <th>country</th>\n",
       "      <th>area_km2</th>\n",
       "      <th>mean_elev</th>\n",
       "    </tr>\n",
       "  </thead>\n",
       "  <tbody>\n",
       "    <tr>\n",
       "      <th>0</th>\n",
       "      <td>Abyei Area</td>\n",
       "      <td>10460</td>\n",
       "      <td>402.592190</td>\n",
       "    </tr>\n",
       "    <tr>\n",
       "      <th>1</th>\n",
       "      <td>Afghanistan</td>\n",
       "      <td>642093</td>\n",
       "      <td>1809.717311</td>\n",
       "    </tr>\n",
       "    <tr>\n",
       "      <th>2</th>\n",
       "      <td>Akrotiri</td>\n",
       "      <td>127</td>\n",
       "      <td>60.796081</td>\n",
       "    </tr>\n",
       "    <tr>\n",
       "      <th>3</th>\n",
       "      <td>Aksai Chin</td>\n",
       "      <td>30448</td>\n",
       "      <td>5324.949965</td>\n",
       "    </tr>\n",
       "    <tr>\n",
       "      <th>4</th>\n",
       "      <td>Albania</td>\n",
       "      <td>28638</td>\n",
       "      <td>689.740847</td>\n",
       "    </tr>\n",
       "    <tr>\n",
       "      <th>...</th>\n",
       "      <td>...</td>\n",
       "      <td>...</td>\n",
       "      <td>...</td>\n",
       "    </tr>\n",
       "    <tr>\n",
       "      <th>279</th>\n",
       "      <td>West Bank</td>\n",
       "      <td>5813</td>\n",
       "      <td>341.715816</td>\n",
       "    </tr>\n",
       "    <tr>\n",
       "      <th>280</th>\n",
       "      <td>Western Sahara</td>\n",
       "      <td>269689</td>\n",
       "      <td>253.175100</td>\n",
       "    </tr>\n",
       "    <tr>\n",
       "      <th>281</th>\n",
       "      <td>Yemen</td>\n",
       "      <td>454682</td>\n",
       "      <td>932.051351</td>\n",
       "    </tr>\n",
       "    <tr>\n",
       "      <th>282</th>\n",
       "      <td>Zambia</td>\n",
       "      <td>754032</td>\n",
       "      <td>1118.995950</td>\n",
       "    </tr>\n",
       "    <tr>\n",
       "      <th>283</th>\n",
       "      <td>Zimbabwe</td>\n",
       "      <td>391916</td>\n",
       "      <td>973.295555</td>\n",
       "    </tr>\n",
       "  </tbody>\n",
       "</table>\n",
       "<p>284 rows × 3 columns</p>\n",
       "</div>"
      ],
      "text/plain": [
       "            country  area_km2    mean_elev\n",
       "0        Abyei Area     10460   402.592190\n",
       "1       Afghanistan    642093  1809.717311\n",
       "2          Akrotiri       127    60.796081\n",
       "3        Aksai Chin     30448  5324.949965\n",
       "4           Albania     28638   689.740847\n",
       "..              ...       ...          ...\n",
       "279       West Bank      5813   341.715816\n",
       "280  Western Sahara    269689   253.175100\n",
       "281           Yemen    454682   932.051351\n",
       "282          Zambia    754032  1118.995950\n",
       "283        Zimbabwe    391916   973.295555\n",
       "\n",
       "[284 rows x 3 columns]"
      ]
     },
     "execution_count": null,
     "metadata": {},
     "output_type": "execute_result"
    }
   ],
   "source": [
    "# Get a list of countries to analyze.\n",
    "country_fc = ee.FeatureCollection('USDOS/LSIB_SIMPLE/2017')\n",
    "country_list = country_fc.aggregate_array('country_na').distinct().sort().getInfo()\n",
    "\n",
    "# Write a function that can be run by the cluster workers. \n",
    "def get_country_stats(country_name):\n",
    "    country = country_fc.filter(ee.Filter.eq('country_na', country_name))\n",
    "    elev = ee.ImageCollection(\"COPERNICUS/DEM/GLO30\").select('DEM').mosaic()\n",
    "    return {\n",
    "        'country': country_name, \n",
    "        'area_km2': country.geometry().area().multiply(1e-6).round().getInfo(), \n",
    "        'mean_elev': elev.reduceRegion(reducer=ee.Reducer.mean(),\n",
    "                                       geometry=country.geometry(),\n",
    "                                       scale=10000,\n",
    "                                       ).get('DEM').getInfo(),\n",
    "    }\n",
    "\n",
    "# Create and submit jobs to among the workers.\n",
    "submitted_jobs = [\n",
    "    client.submit(get_country_stats, country)\n",
    "    for country in country_list\n",
    "]\n",
    "\n",
    "# Gather up the results and display them.\n",
    "results = client.gather(submitted_jobs)\n",
    "df = pd.DataFrame(results)\n",
    "df"
   ]
  },
  {
   "cell_type": "markdown",
   "metadata": {},
   "source": [
    "Display a scatter plot of the data."
   ]
  },
  {
   "cell_type": "code",
   "execution_count": null,
   "metadata": {},
   "outputs": [
    {
     "data": {
      "text/html": [
       "\n",
       "<style>\n",
       "  #altair-viz-3c8f4685e00b42bb8158577c7de0d4af.vega-embed {\n",
       "    width: 100%;\n",
       "    display: flex;\n",
       "  }\n",
       "\n",
       "  #altair-viz-3c8f4685e00b42bb8158577c7de0d4af.vega-embed details,\n",
       "  #altair-viz-3c8f4685e00b42bb8158577c7de0d4af.vega-embed details summary {\n",
       "    position: relative;\n",
       "  }\n",
       "</style>\n",
       "<div id=\"altair-viz-3c8f4685e00b42bb8158577c7de0d4af\"></div>\n",
       "<script type=\"text/javascript\">\n",
       "  var VEGA_DEBUG = (typeof VEGA_DEBUG == \"undefined\") ? {} : VEGA_DEBUG;\n",
       "  (function(spec, embedOpt){\n",
       "    let outputDiv = document.currentScript.previousElementSibling;\n",
       "    if (outputDiv.id !== \"altair-viz-3c8f4685e00b42bb8158577c7de0d4af\") {\n",
       "      outputDiv = document.getElementById(\"altair-viz-3c8f4685e00b42bb8158577c7de0d4af\");\n",
       "    }\n",
       "    const paths = {\n",
       "      \"vega\": \"https://cdn.jsdelivr.net/npm/vega@5?noext\",\n",
       "      \"vega-lib\": \"https://cdn.jsdelivr.net/npm/vega-lib?noext\",\n",
       "      \"vega-lite\": \"https://cdn.jsdelivr.net/npm/vega-lite@5.17.0?noext\",\n",
       "      \"vega-embed\": \"https://cdn.jsdelivr.net/npm/vega-embed@6?noext\",\n",
       "    };\n",
       "\n",
       "    function maybeLoadScript(lib, version) {\n",
       "      var key = `${lib.replace(\"-\", \"\")}_version`;\n",
       "      return (VEGA_DEBUG[key] == version) ?\n",
       "        Promise.resolve(paths[lib]) :\n",
       "        new Promise(function(resolve, reject) {\n",
       "          var s = document.createElement('script');\n",
       "          document.getElementsByTagName(\"head\")[0].appendChild(s);\n",
       "          s.async = true;\n",
       "          s.onload = () => {\n",
       "            VEGA_DEBUG[key] = version;\n",
       "            return resolve(paths[lib]);\n",
       "          };\n",
       "          s.onerror = () => reject(`Error loading script: ${paths[lib]}`);\n",
       "          s.src = paths[lib];\n",
       "        });\n",
       "    }\n",
       "\n",
       "    function showError(err) {\n",
       "      outputDiv.innerHTML = `<div class=\"error\" style=\"color:red;\">${err}</div>`;\n",
       "      throw err;\n",
       "    }\n",
       "\n",
       "    function displayChart(vegaEmbed) {\n",
       "      vegaEmbed(outputDiv, spec, embedOpt)\n",
       "        .catch(err => showError(`Javascript Error: ${err.message}<br>This usually means there's a typo in your chart specification. See the javascript console for the full traceback.`));\n",
       "    }\n",
       "\n",
       "    if(typeof define === \"function\" && define.amd) {\n",
       "      requirejs.config({paths});\n",
       "      require([\"vega-embed\"], displayChart, err => showError(`Error loading script: ${err.message}`));\n",
       "    } else {\n",
       "      maybeLoadScript(\"vega\", \"5\")\n",
       "        .then(() => maybeLoadScript(\"vega-lite\", \"5.17.0\"))\n",
       "        .then(() => maybeLoadScript(\"vega-embed\", \"6\"))\n",
       "        .catch(showError)\n",
       "        .then(() => displayChart(vegaEmbed));\n",
       "    }\n",
       "  })({\"config\": {\"view\": {\"continuousWidth\": 300, \"continuousHeight\": 300}}, \"data\": {\"name\": \"data-f99205faebf98d8f0e526d400e9850d3\"}, \"mark\": {\"type\": \"circle\", \"size\": 60}, \"encoding\": {\"tooltip\": [{\"field\": \"country\", \"type\": \"nominal\"}], \"x\": {\"field\": \"area_km2\", \"type\": \"quantitative\"}, \"y\": {\"field\": \"mean_elev\", \"type\": \"quantitative\"}}, \"params\": [{\"name\": \"param_1\", \"select\": {\"type\": \"interval\", \"encodings\": [\"x\", \"y\"]}, \"bind\": \"scales\"}], \"$schema\": \"https://vega.github.io/schema/vega-lite/v5.17.0.json\", \"datasets\": {\"data-f99205faebf98d8f0e526d400e9850d3\": [{\"country\": \"Abyei Area\", \"area_km2\": 10460, \"mean_elev\": 402.5921903247955}, {\"country\": \"Afghanistan\", \"area_km2\": 642093, \"mean_elev\": 1809.7173111215334}, {\"country\": \"Akrotiri\", \"area_km2\": 127, \"mean_elev\": 60.796080975396805}, {\"country\": \"Aksai Chin\", \"area_km2\": 30448, \"mean_elev\": 5324.9499654690035}, {\"country\": \"Albania\", \"area_km2\": 28638, \"mean_elev\": 689.7408470130079}, {\"country\": \"Algeria\", \"area_km2\": 2311174, \"mean_elev\": 557.3045873994463}, {\"country\": \"American Samoa\", \"area_km2\": 201, \"mean_elev\": 144.98484662710382}, {\"country\": \"Andorra\", \"area_km2\": 464, \"mean_elev\": 1972.6086988830566}, {\"country\": \"Angola\", \"area_km2\": 1251602, \"mean_elev\": 1068.4781342631431}, {\"country\": \"Anguilla\", \"area_km2\": 76, \"mean_elev\": 9.059565997818142}, {\"country\": \"Antarctica\", \"area_km2\": 12247200, \"mean_elev\": 2161.922965535923}, {\"country\": \"Antigua & Barbuda\", \"area_km2\": 448, \"mean_elev\": 24.86410372894748}, {\"country\": \"Argentina\", \"area_km2\": 2779304, \"mean_elev\": 685.4382957596565}, {\"country\": \"Armenia\", \"area_km2\": 29726, \"mean_elev\": null}, {\"country\": \"Aruba\", \"area_km2\": 186, \"mean_elev\": 6.795731038223079}, {\"country\": \"Ashmore & Cartier Is\", \"area_km2\": 1, \"mean_elev\": 0.0}, {\"country\": \"Australia\", \"area_km2\": 7699189, \"mean_elev\": 275.1612609452256}, {\"country\": \"Austria\", \"area_km2\": 83696, \"mean_elev\": 948.5956865309148}, {\"country\": \"Azerbaijan\", \"area_km2\": 86024, \"mean_elev\": null}, {\"country\": \"Bahamas, The\", \"area_km2\": 12036, \"mean_elev\": 1.9910142529733272}, {\"country\": \"Bahrain\", \"area_km2\": 780, \"mean_elev\": 9.947714521084613}, {\"country\": \"Bangladesh\", \"area_km2\": 138262, \"mean_elev\": 27.180962077817814}, {\"country\": \"Barbados\", \"area_km2\": 443, \"mean_elev\": 128.10637120962755}, {\"country\": \"Belarus\", \"area_km2\": 206747, \"mean_elev\": 164.8449032381152}, {\"country\": \"Belgium\", \"area_km2\": 30544, \"mean_elev\": 155.1433364269135}, {\"country\": \"Belize\", \"area_km2\": 22129, \"mean_elev\": 157.15219362372895}, {\"country\": \"Benin\", \"area_km2\": 115867, \"mean_elev\": 266.1245889190128}, {\"country\": \"Bermuda\", \"area_km2\": 64, \"mean_elev\": 0.1606823712929912}, {\"country\": \"Bhutan\", \"area_km2\": 38645, \"mean_elev\": 2740.4117092127585}, {\"country\": \"Bir Tawil\", \"area_km2\": 2014, \"mean_elev\": 387.1789101914588}, {\"country\": \"Bolivia\", \"area_km2\": 1087508, \"mean_elev\": 1281.3082112964532}, {\"country\": \"Bosnia & Herzegovina\", \"area_km2\": 51122, \"mean_elev\": 679.0226356245022}, {\"country\": \"Botswana\", \"area_km2\": 579654, \"mean_elev\": 1031.157325852085}, {\"country\": \"Bouvet Island\", \"area_km2\": 50, \"mean_elev\": 41.3767458014532}, {\"country\": \"Brazil\", \"area_km2\": 8503009, \"mean_elev\": 325.69644880447044}, {\"country\": \"British Indian Ocean Terr\", \"area_km2\": 52, \"mean_elev\": 2.830064166675915}, {\"country\": \"British Virgin Is\", \"area_km2\": 102, \"mean_elev\": 1.6060897872896653}, {\"country\": \"Brunei\", \"area_km2\": 5918, \"mean_elev\": 88.9496035274302}, {\"country\": \"Bulgaria\", \"area_km2\": 110763, \"mean_elev\": 471.86682192348235}, {\"country\": \"Burkina Faso\", \"area_km2\": 274387, \"mean_elev\": 297.26087820758187}, {\"country\": \"Burma\", \"area_km2\": 667905, \"mean_elev\": 591.218314791086}, {\"country\": \"Burundi\", \"area_km2\": 26954, \"mean_elev\": 1501.8480954747167}, {\"country\": \"Cabo Verde\", \"area_km2\": 4077, \"mean_elev\": 288.1126518250067}, {\"country\": \"Cambodia\", \"area_km2\": 182022, \"mean_elev\": 122.4102055972626}, {\"country\": \"Cameroon\", \"area_km2\": 466988, \"mean_elev\": 646.1955953835626}, {\"country\": \"Canada\", \"area_km2\": 9803738, \"mean_elev\": 452.6098530254492}, {\"country\": \"Cayman Is\", \"area_km2\": 288, \"mean_elev\": 1.7278832534285014}, {\"country\": \"Central African Rep\", \"area_km2\": 622762, \"mean_elev\": 598.1876538834299}, {\"country\": \"Chad\", \"area_km2\": 1275134, \"mean_elev\": 519.6069773122679}, {\"country\": \"Chile\", \"area_km2\": 738817, \"mean_elev\": 1220.1466375386985}, {\"country\": \"China\", \"area_km2\": 9342762, \"mean_elev\": 1782.4978671241577}, {\"country\": \"Christmas I\", \"area_km2\": 142, \"mean_elev\": 108.75627244014159}, {\"country\": \"Clipperton Island\", \"area_km2\": 9, \"mean_elev\": 0.0}, {\"country\": \"Cocos (Keeling) Is\", \"area_km2\": 13, \"mean_elev\": 0.0}, {\"country\": \"Colombia\", \"area_km2\": 1140738, \"mean_elev\": 559.2324603324087}, {\"country\": \"Comoros\", \"area_km2\": 1654, \"mean_elev\": 415.8517826172414}, {\"country\": \"Cook Is\", \"area_km2\": 221, \"mean_elev\": 59.03705902009122}, {\"country\": \"Coral Sea Is\", \"area_km2\": 0, \"mean_elev\": null}, {\"country\": \"Costa Rica\", \"area_km2\": 51402, \"mean_elev\": 561.419806348545}, {\"country\": \"Cote d'Ivoire\", \"area_km2\": 323139, \"mean_elev\": 258.99290309854786}, {\"country\": \"Croatia\", \"area_km2\": 56144, \"mean_elev\": 308.6663613845674}, {\"country\": \"Cuba\", \"area_km2\": 109687, \"mean_elev\": 98.53187662359021}, {\"country\": \"Curacao\", \"area_km2\": 449, \"mean_elev\": 18.404062547981482}, {\"country\": \"Cyprus\", \"area_km2\": 9059, \"mean_elev\": 285.56404701562286}, {\"country\": \"Czechia\", \"area_km2\": 78622, \"mean_elev\": 450.85083122027123}, {\"country\": \"Dem Rep of the Congo\", \"area_km2\": 2339448, \"mean_elev\": 686.2547734965194}, {\"country\": \"Demchok Area\", \"area_km2\": 1490, \"mean_elev\": 4954.461950643129}, {\"country\": \"Denmark\", \"area_km2\": 42856, \"mean_elev\": 31.55184892657718}, {\"country\": \"Dhekelia\", \"area_km2\": 131, \"mean_elev\": 39.856986648896154}, {\"country\": \"Djibouti\", \"area_km2\": 21769, \"mean_elev\": 437.94905627375886}, {\"country\": \"Dominica\", \"area_km2\": 764, \"mean_elev\": 325.2928971809713}, {\"country\": \"Dominican Republic\", \"area_km2\": 48483, \"mean_elev\": 403.19162127266577}, {\"country\": \"Dragonja River Mouth\", \"area_km2\": 1, \"mean_elev\": 25.267799377441406}, {\"country\": \"Dramana-Shakatoe Area\", \"area_km2\": 108, \"mean_elev\": 4577.418764379803}, {\"country\": \"Ecuador\", \"area_km2\": 255998, \"mean_elev\": 1057.9485664505705}, {\"country\": \"Egypt\", \"area_km2\": 983532, \"mean_elev\": 297.19305014674245}, {\"country\": \"El Salvador\", \"area_km2\": 20712, \"mean_elev\": 440.8141234974805}, {\"country\": \"Equatorial Guinea\", \"area_km2\": 26961, \"mean_elev\": 484.01116877108944}, {\"country\": \"Eritrea\", \"area_km2\": 120842, \"mean_elev\": 763.3657844138393}, {\"country\": \"Estonia\", \"area_km2\": 45031, \"mean_elev\": 55.553435411122386}, {\"country\": \"Ethiopia\", \"area_km2\": 1133302, \"mean_elev\": 1254.7967589044408}, {\"country\": \"Falkland Islands\", \"area_km2\": 11408, \"mean_elev\": 78.40006441630553}, {\"country\": \"Faroe Is\", \"area_km2\": 1419, \"mean_elev\": 189.83867001870556}, {\"country\": \"Fed States of Micronesia\", \"area_km2\": 656, \"mean_elev\": 108.52370664603394}, {\"country\": \"Fiji\", \"area_km2\": 18643, \"mean_elev\": 206.7318239856059}, {\"country\": \"Finland\", \"area_km2\": 332237, \"mean_elev\": 164.26391715074357}, {\"country\": \"France\", \"area_km2\": 547634, \"mean_elev\": 339.53923616420167}, {\"country\": \"French Guiana\", \"area_km2\": 82831, \"mean_elev\": 137.53636314717673}, {\"country\": \"French Polynesia\", \"area_km2\": 3250, \"mean_elev\": 197.6569077150825}, {\"country\": \"French S & Antarctic Lands\", \"area_km2\": 7358, \"mean_elev\": 205.33188288419163}, {\"country\": \"Gabon\", \"area_km2\": 264018, \"mean_elev\": 378.3915926496691}, {\"country\": \"Gambia, The\", \"area_km2\": 10747, \"mean_elev\": 20.754863257618936}, {\"country\": \"Gaza Strip\", \"area_km2\": 367, \"mean_elev\": 46.50745788295519}, {\"country\": \"Georgia\", \"area_km2\": 69557, \"mean_elev\": 1294.4663257358616}, {\"country\": \"Germany\", \"area_km2\": 356077, \"mean_elev\": 256.41477750950594}, {\"country\": \"Ghana\", \"area_km2\": 239787, \"mean_elev\": 179.98486917024613}, {\"country\": \"Gibraltar\", \"area_km2\": 6, \"mean_elev\": 3.5705764293670654}, {\"country\": \"Greece\", \"area_km2\": 131774, \"mean_elev\": 472.3420452232235}, {\"country\": \"Greenland\", \"area_km2\": 2132598, \"mean_elev\": 1721.1485157236175}, {\"country\": \"Grenada\", \"area_km2\": 358, \"mean_elev\": 282.96032178065167}, {\"country\": \"Guadeloupe\", \"area_km2\": 1632, \"mean_elev\": 159.14157990127316}, {\"country\": \"Guam\", \"area_km2\": 559, \"mean_elev\": 87.71394247285251}, {\"country\": \"Guatemala\", \"area_km2\": 108587, \"mean_elev\": 743.9867717366768}, {\"country\": \"Guernsey\", \"area_km2\": 66, \"mean_elev\": 50.965568301292905}, {\"country\": \"Guinea\", \"area_km2\": 245583, \"mean_elev\": 442.6151097104292}, {\"country\": \"Guinea-Bissau\", \"area_km2\": 33739, \"mean_elev\": 34.94678597652566}, {\"country\": \"Guyana\", \"area_km2\": 211730, \"mean_elev\": 212.62522608946088}, {\"country\": \"Haiti\", \"area_km2\": 27200, \"mean_elev\": 387.68129712546386}, {\"country\": \"Halaib Triangle\", \"area_km2\": 18023, \"mean_elev\": 393.9043482852494}, {\"country\": \"Heard I & McDonald Is\", \"area_km2\": 388, \"mean_elev\": 426.402930793371}, {\"country\": \"Honduras\", \"area_km2\": 112518, \"mean_elev\": 630.1380174249167}, {\"country\": \"Hong Kong\", \"area_km2\": 991, \"mean_elev\": 153.8192163048895}, {\"country\": \"Hungary\", \"area_km2\": 92750, \"mean_elev\": 149.32903025881015}, {\"country\": \"IN-CH Small Disputed Areas\", \"area_km2\": 2478, \"mean_elev\": 4986.614617083314}, {\"country\": \"Iceland\", \"area_km2\": 101823, \"mean_elev\": 499.1363393489931}, {\"country\": \"India\", \"area_km2\": 3157230, \"mean_elev\": 582.4116796495312}, {\"country\": \"Indonesia\", \"area_km2\": 1886739, \"mean_elev\": 339.16186714488407}, {\"country\": \"Invernada Area\", \"area_km2\": 248, \"mean_elev\": 292.1682477146185}, {\"country\": \"Iran\", \"area_km2\": 1623301, \"mean_elev\": 1255.221239654569}, {\"country\": \"Iraq\", \"area_km2\": 437205, \"mean_elev\": 300.5172312183703}, {\"country\": \"Ireland\", \"area_km2\": 69585, \"mean_elev\": 106.95132261583946}, {\"country\": \"Isla Brasilera\", \"area_km2\": 5, \"mean_elev\": 37.932098388671875}, {\"country\": \"Isle of Man\", \"area_km2\": 578, \"mean_elev\": 122.76296529033398}, {\"country\": \"Israel\", \"area_km2\": 20772, \"mean_elev\": 264.46986785053474}, {\"country\": \"Italy\", \"area_km2\": 299885, \"mean_elev\": 542.7019980288809}, {\"country\": \"Jamaica\", \"area_km2\": 11026, \"mean_elev\": 326.8984184370941}, {\"country\": \"Jan Mayen\", \"area_km2\": 369, \"mean_elev\": 368.39795320499036}, {\"country\": \"Japan\", \"area_km2\": 376079, \"mean_elev\": 387.2962990749956}, {\"country\": \"Jersey\", \"area_km2\": 121, \"mean_elev\": 8.010812856178203}, {\"country\": \"Jordan\", \"area_km2\": 89194, \"mean_elev\": 768.7287872673263}, {\"country\": \"Kalapani Area\", \"area_km2\": 60, \"mean_elev\": 4321.469515593155}, {\"country\": \"Kazakhstan\", \"area_km2\": 2717868, \"mean_elev\": 351.48306272671505}, {\"country\": \"Kenya\", \"area_km2\": 588673, \"mean_elev\": 785.8171450503455}, {\"country\": \"Kiribati\", \"area_km2\": 891, \"mean_elev\": 1.0432656194732473}, {\"country\": \"Korea, North\", \"area_km2\": 121879, \"mean_elev\": 595.2281343118261}, {\"country\": \"Korea, South\", \"area_km2\": 98635, \"mean_elev\": 263.6164797244309}, {\"country\": \"Korean Is. (UN Jurisdiction)\", \"area_km2\": 51, \"mean_elev\": 16.08098504696673}, {\"country\": \"Kosovo\", \"area_km2\": 10885, \"mean_elev\": 820.6362297717315}, {\"country\": \"Koualou Area\", \"area_km2\": 8, \"mean_elev\": 145.0692596435547}, {\"country\": \"Kuwait\", \"area_km2\": 17287, \"mean_elev\": 115.02899216000318}, {\"country\": \"Kyrgyzstan\", \"area_km2\": 198042, \"mean_elev\": 2636.4579959844837}, {\"country\": \"Laos\", \"area_km2\": 230469, \"mean_elev\": 663.3714820112748}, {\"country\": \"Latvia\", \"area_km2\": 64271, \"mean_elev\": 91.12466698345494}, {\"country\": \"Lebanon\", \"area_km2\": 10227, \"mean_elev\": 1005.6815863002277}, {\"country\": \"Lesotho\", \"area_km2\": 30596, \"mean_elev\": 2204.0393368302616}, {\"country\": \"Liancourt Rocks\", \"area_km2\": 0, \"mean_elev\": 0.0}, {\"country\": \"Liberia\", \"area_km2\": 96233, \"mean_elev\": 214.51578052170984}, {\"country\": \"Libya\", \"area_km2\": 1617481, \"mean_elev\": 411.80400520521835}, {\"country\": \"Liechtenstein\", \"area_km2\": 160, \"mean_elev\": 984.8871941494585}, {\"country\": \"Lithuania\", \"area_km2\": 64610, \"mean_elev\": 105.75532378856113}, {\"country\": \"Luxembourg\", \"area_km2\": 2587, \"mean_elev\": 354.38315388820536}, {\"country\": \"Macau\", \"area_km2\": 8, \"mean_elev\": 15.62815393720354}, {\"country\": \"Macedonia\", \"area_km2\": 25407, \"mean_elev\": 839.5557054933643}, {\"country\": \"Madagascar\", \"area_km2\": 592303, \"mean_elev\": 539.2888110749765}, {\"country\": \"Malawi\", \"area_km2\": 119127, \"mean_elev\": 852.3994398091847}, {\"country\": \"Malaysia\", \"area_km2\": 330413, \"mean_elev\": 278.43471019446895}, {\"country\": \"Maldives\", \"area_km2\": 162, \"mean_elev\": 0.09121421483321325}, {\"country\": \"Mali\", \"area_km2\": 1259523, \"mean_elev\": 317.7492352045451}, {\"country\": \"Malta\", \"area_km2\": 323, \"mean_elev\": 46.539277122897126}, {\"country\": \"Marshall Is\", \"area_km2\": 128, \"mean_elev\": 0.012025768742770768}, {\"country\": \"Martinique\", \"area_km2\": 1141, \"mean_elev\": 186.66866550331912}, {\"country\": \"Mauritania\", \"area_km2\": 1040194, \"mean_elev\": 261.2264585303374}, {\"country\": \"Mauritius\", \"area_km2\": 2009, \"mean_elev\": 211.47389521474662}, {\"country\": \"Mayotte\", \"area_km2\": 371, \"mean_elev\": 50.982691279559184}, {\"country\": \"Mexico\", \"area_km2\": 1959724, \"mean_elev\": 1045.3127349388028}, {\"country\": \"Moldova\", \"area_km2\": 33761, \"mean_elev\": 145.61554726205776}, {\"country\": \"Monaco\", \"area_km2\": 2, \"mean_elev\": 0.0}, {\"country\": \"Mongolia\", \"area_km2\": 1560792, \"mean_elev\": 1489.2074974871823}, {\"country\": \"Montenegro\", \"area_km2\": 13888, \"mean_elev\": 1014.6872072978671}, {\"country\": \"Montserrat\", \"area_km2\": 100, \"mean_elev\": 320.46765388174447}, {\"country\": \"Morocco\", \"area_km2\": 414258, \"mean_elev\": 871.7893342298688}, {\"country\": \"Mozambique\", \"area_km2\": 788496, \"mean_elev\": 351.2720543833384}, {\"country\": \"Namibia\", \"area_km2\": 826035, \"mean_elev\": 1088.792063272379}, {\"country\": \"Nauru\", \"area_km2\": 23, \"mean_elev\": 0.0}, {\"country\": \"Navassa I\", \"area_km2\": 5, \"mean_elev\": 0.0}, {\"country\": \"Nepal\", \"area_km2\": 147793, \"mean_elev\": 2119.099653458548}, {\"country\": \"Netherlands\", \"area_km2\": 35032, \"mean_elev\": 10.668045044538868}, {\"country\": \"Netherlands (Caribbean)\", \"area_km2\": 315, \"mean_elev\": 5.191487460154032}, {\"country\": \"New Caledonia\", \"area_km2\": 18679, \"mean_elev\": 245.28688580724702}, {\"country\": \"New Zealand\", \"area_km2\": 267218, \"mean_elev\": 489.43944954397483}, {\"country\": \"Nicaragua\", \"area_km2\": 128898, \"mean_elev\": 222.94637954309613}, {\"country\": \"Niger\", \"area_km2\": 1184398, \"mean_elev\": 458.9978376372726}, {\"country\": \"Nigeria\", \"area_km2\": 912554, \"mean_elev\": 327.1659822466571}, {\"country\": \"Niue\", \"area_km2\": 267, \"mean_elev\": 46.52202143861992}, {\"country\": \"No Man's Land\", \"area_km2\": 52, \"mean_elev\": 279.11986935366497}, {\"country\": \"Norfolk I\", \"area_km2\": 40, \"mean_elev\": 32.45940113067627}, {\"country\": \"Northern Mariana Is\", \"area_km2\": 490, \"mean_elev\": 67.82342839858882}, {\"country\": \"Norway\", \"area_km2\": 314738, \"mean_elev\": 540.1415884280218}, {\"country\": \"Oman\", \"area_km2\": 309228, \"mean_elev\": 276.7129653585081}, {\"country\": \"Pakistan\", \"area_km2\": 873752, \"mean_elev\": 1027.6449283499815}, {\"country\": \"Palau\", \"area_km2\": 464, \"mean_elev\": 34.352804628359216}, {\"country\": \"Panama\", \"area_km2\": 75244, \"mean_elev\": 311.04534495412804}, {\"country\": \"Papua New Guinea\", \"area_km2\": 462265, \"mean_elev\": 612.1606640264005}, {\"country\": \"Paracel Is\", \"area_km2\": 2, \"mean_elev\": 1.2013741731643677}, {\"country\": \"Paraguay\", \"area_km2\": 400429, \"mean_elev\": 162.78820609145887}, {\"country\": \"Peru\", \"area_km2\": 1297155, \"mean_elev\": 1492.5852639754032}, {\"country\": \"Philippines\", \"area_km2\": 291506, \"mean_elev\": 321.2222079845712}, {\"country\": \"Pitcairn Is\", \"area_km2\": 44, \"mean_elev\": 18.397309173583984}, {\"country\": \"Poland\", \"area_km2\": 310718, \"mean_elev\": 172.6596029120219}, {\"country\": \"Portugal\", \"area_km2\": 88714, \"mean_elev\": 322.7277772979323}, {\"country\": \"Portugal (Azores)\", \"area_km2\": 2374, \"mean_elev\": 303.4672263392866}, {\"country\": \"Portugal (Madeira Is)\", \"area_km2\": 792, \"mean_elev\": 571.3047912088921}, {\"country\": \"Puerto Rico\", \"area_km2\": 8958, \"mean_elev\": 215.11291952756525}, {\"country\": \"Qatar\", \"area_km2\": 11672, \"mean_elev\": 26.251691439221098}, {\"country\": \"Rep of the Congo\", \"area_km2\": 344237, \"mean_elev\": 417.587029094153}, {\"country\": \"Reunion\", \"area_km2\": 2512, \"mean_elev\": 890.7467509839204}, {\"country\": \"Romania\", \"area_km2\": 237150, \"mean_elev\": 401.6485547169332}, {\"country\": \"Russia\", \"area_km2\": 16823663, \"mean_elev\": 349.39955576435517}, {\"country\": \"Rwanda\", \"area_km2\": 25391, \"mean_elev\": 1693.274448142281}, {\"country\": \"S Georgia & S Sandwich Is\", \"area_km2\": 3903, \"mean_elev\": 467.6963434596435}, {\"country\": \"Saint Lucia\", \"area_km2\": 620, \"mean_elev\": 201.55316288720886}, {\"country\": \"Samoa\", \"area_km2\": 2879, \"mean_elev\": 352.4938143751018}, {\"country\": \"San Marino\", \"area_km2\": 61, \"mean_elev\": 358.74585319554194}, {\"country\": \"Sao Tome & Principe\", \"area_km2\": 994, \"mean_elev\": 263.8449941771506}, {\"country\": \"Saudi Arabia\", \"area_km2\": 1928799, \"mean_elev\": 638.623724723655}, {\"country\": \"Senegal\", \"area_km2\": 197005, \"mean_elev\": 50.85166966575258}, {\"country\": \"Senkakus\", \"area_km2\": 4, \"mean_elev\": 0.0}, {\"country\": \"Serbia\", \"area_km2\": 77301, \"mean_elev\": 408.5206343019234}, {\"country\": \"Seychelles\", \"area_km2\": 435, \"mean_elev\": 1.5162593792137953}, {\"country\": \"Siachen-Saltoro Area\", \"area_km2\": 2798, \"mean_elev\": 5332.4599932140945}, {\"country\": \"Sierra Leone\", \"area_km2\": 72678, \"mean_elev\": 194.75525938456272}, {\"country\": \"Sinafir & Tiran Is.\", \"area_km2\": 86, \"mean_elev\": 0.0}, {\"country\": \"Singapore\", \"area_km2\": 689, \"mean_elev\": 15.554009497733837}, {\"country\": \"Sint Maarten\", \"area_km2\": 38, \"mean_elev\": 0.0}, {\"country\": \"Slovakia\", \"area_km2\": 48876, \"mean_elev\": 457.46891570314295}, {\"country\": \"Slovenia\", \"area_km2\": 20227, \"mean_elev\": 550.7804059600483}, {\"country\": \"Solomon Is\", \"area_km2\": 27960, \"mean_elev\": 222.57164680757077}, {\"country\": \"Somalia\", \"area_km2\": 636128, \"mean_elev\": 419.99584461790363}, {\"country\": \"South Africa\", \"area_km2\": 1221430, \"mean_elev\": 1027.2701301990564}, {\"country\": \"South Sudan\", \"area_km2\": 645196, \"mean_elev\": 516.8158394028782}, {\"country\": \"Spain\", \"area_km2\": 498000, \"mean_elev\": 690.033603528788}, {\"country\": \"Spain (Africa)\", \"area_km2\": 34, \"mean_elev\": 46.09501483974357}, {\"country\": \"Spain (Canary Is)\", \"area_km2\": 7413, \"mean_elev\": 529.4932504523123}, {\"country\": \"Spratly Is\", \"area_km2\": 0, \"mean_elev\": null}, {\"country\": \"Sri Lanka\", \"area_km2\": 66254, \"mean_elev\": 177.16938394834833}, {\"country\": \"St Barthelemy\", \"area_km2\": 23, \"mean_elev\": 0.0}, {\"country\": \"St Helena\", \"area_km2\": 411, \"mean_elev\": 246.11565019106908}, {\"country\": \"St Kitts & Nevis\", \"area_km2\": 270, \"mean_elev\": 49.30897327994231}, {\"country\": \"St Martin\", \"area_km2\": 56, \"mean_elev\": 0.0}, {\"country\": \"St Pierre & Miquelon\", \"area_km2\": 235, \"mean_elev\": 57.71921243372651}, {\"country\": \"St Vincent & the Grenadines\", \"area_km2\": 371, \"mean_elev\": 138.48402806204192}, {\"country\": \"Sudan\", \"area_km2\": 1835114, \"mean_elev\": 529.2117568153562}, {\"country\": \"Suriname\", \"area_km2\": 146474, \"mean_elev\": 155.89052593103355}, {\"country\": \"Svalbard\", \"area_km2\": 59717, \"mean_elev\": 362.06132880806655}, {\"country\": \"Swaziland\", \"area_km2\": 17393, \"mean_elev\": 621.2750834474174}, {\"country\": \"Sweden\", \"area_km2\": 445075, \"mean_elev\": 335.0238823238199}, {\"country\": \"Switzerland\", \"area_km2\": 41182, \"mean_elev\": 1305.580647093195}, {\"country\": \"Syria\", \"area_km2\": 187572, \"mean_elev\": 514.41040103127}, {\"country\": \"Taiwan\", \"area_km2\": 36407, \"mean_elev\": 782.8250559618533}, {\"country\": \"Tajikistan\", \"area_km2\": 141179, \"mean_elev\": 2950.4637443229853}, {\"country\": \"Tanzania\", \"area_km2\": 944270, \"mean_elev\": 1016.2112880440152}, {\"country\": \"Thailand\", \"area_km2\": 515256, \"mean_elev\": 284.69833756447093}, {\"country\": \"Timor-Leste\", \"area_km2\": 15003, \"mean_elev\": 459.2363205047445}, {\"country\": \"Togo\", \"area_km2\": 56908, \"mean_elev\": 259.3245586895906}, {\"country\": \"Tokelau\", \"area_km2\": 6, \"mean_elev\": 0.0}, {\"country\": \"Tonga\", \"area_km2\": 629, \"mean_elev\": 13.340030992699557}, {\"country\": \"Trinidad & Tobago\", \"area_km2\": 5182, \"mean_elev\": 94.39606099198426}, {\"country\": \"Tunisia\", \"area_km2\": 155323, \"mean_elev\": 253.71684171069361}, {\"country\": \"Turkey\", \"area_km2\": 779833, \"mean_elev\": 1128.2714956485554}, {\"country\": \"Turkmenistan\", \"area_km2\": 488868, \"mean_elev\": 196.3498301043765}, {\"country\": \"Turks & Caicos Is\", \"area_km2\": 883, \"mean_elev\": 1.4363425953880389}, {\"country\": \"Tuvalu\", \"area_km2\": 29, \"mean_elev\": 0.0}, {\"country\": \"US Minor Pacific Is. Refuges\", \"area_km2\": 26, \"mean_elev\": 0.012971470974487802}, {\"country\": \"US Virgin Is\", \"area_km2\": 354, \"mean_elev\": 46.779417632096695}, {\"country\": \"Uganda\", \"area_km2\": 242463, \"mean_elev\": 1154.6997083244328}, {\"country\": \"Ukraine\", \"area_km2\": 595909, \"mean_elev\": 181.48739660440143}, {\"country\": \"United Arab Emirates\", \"area_km2\": 70736, \"mean_elev\": 116.5453372022592}, {\"country\": \"United Kingdom\", \"area_km2\": 243168, \"mean_elev\": 160.80948105075888}, {\"country\": \"United States\", \"area_km2\": 7781400, \"mean_elev\": 794.0242033157863}, {\"country\": \"United States (Alaska)\", \"area_km2\": 1494935, \"mean_elev\": 453.3051724599716}, {\"country\": \"United States (Hawaii)\", \"area_km2\": 16884, \"mean_elev\": 890.8569915498077}, {\"country\": \"Uruguay\", \"area_km2\": 177797, \"mean_elev\": 109.18057399621536}, {\"country\": \"Uzbekistan\", \"area_km2\": 448337, \"mean_elev\": 347.16752392862236}, {\"country\": \"Vanuatu\", \"area_km2\": 12126, \"mean_elev\": 253.07991697349073}, {\"country\": \"Vatican City\", \"area_km2\": 1, \"mean_elev\": 51.752227783203125}, {\"country\": \"Venezuela\", \"area_km2\": 915896, \"mean_elev\": 347.97725199206224}, {\"country\": \"Vietnam\", \"area_km2\": 328212, \"mean_elev\": 395.0657202419943}, {\"country\": \"Wake I\", \"area_km2\": 8, \"mean_elev\": 0.0}, {\"country\": \"Wallis & Futuna\", \"area_km2\": 176, \"mean_elev\": 15.816981978583753}, {\"country\": \"West Bank\", \"area_km2\": 5813, \"mean_elev\": 341.71581601891745}, {\"country\": \"Western Sahara\", \"area_km2\": 269689, \"mean_elev\": 253.17510048477115}, {\"country\": \"Yemen\", \"area_km2\": 454682, \"mean_elev\": 932.0513512099999}, {\"country\": \"Zambia\", \"area_km2\": 754032, \"mean_elev\": 1118.9959497695602}, {\"country\": \"Zimbabwe\", \"area_km2\": 391916, \"mean_elev\": 973.2955548809969}]}}, {\"mode\": \"vega-lite\"});\n",
       "</script>"
      ],
      "text/plain": [
       "alt.Chart(...)"
      ]
     },
     "execution_count": null,
     "metadata": {},
     "output_type": "execute_result"
    }
   ],
   "source": [
    "alt.Chart(df).mark_circle(size=60).encode(\n",
    "    x='area_km2',\n",
    "    y='mean_elev',\n",
    "    tooltip=['country']\n",
    ").interactive()"
   ]
  },
  {
   "cell_type": "markdown",
   "metadata": {},
   "source": [
    "# Shut down the cluster"
   ]
  },
  {
   "cell_type": "code",
   "execution_count": null,
   "metadata": {},
   "outputs": [],
   "source": [
    "cluster.shutdown()"
   ]
  },
  {
   "cell_type": "code",
   "execution_count": null,
   "metadata": {},
   "outputs": [],
   "source": []
  }
 ],
 "metadata": {
  "kernelspec": {
   "display_name": "Python 3 (ipykernel)",
   "language": "python",
   "name": "python3"
  }
 },
 "nbformat": 4,
 "nbformat_minor": 4
}
