{
 "cells": [
  {
   "cell_type": "markdown",
   "metadata": {},
   "source": [
    "# earthengine-dask\n",
    "\n",
    "> Scale up concurrent requests to Earth Engine interactive endpoints with Dask"
   ]
  },
  {
   "cell_type": "markdown",
   "metadata": {},
   "source": [
    "# Prerequisites\n",
    "\n",
    "- A [Google Earth Engine](https://earthengine.google.com/) account.\n",
    "- Access to a Google Cloud Platform (GCP) [project with the Earth Engine API enabled](https://developers.google.com/earth-engine/cloud/earthengine_cloud_project_setup).\n",
    "- A [Coiled](https://www.coiled.io/) account that is [setup to use the GCP project](https://docs.coiled.io/user_guide/setup/gcp/cli.html)."
   ]
  },
  {
   "cell_type": "markdown",
   "metadata": {},
   "source": [
    "# Installation"
   ]
  },
  {
   "cell_type": "markdown",
   "metadata": {},
   "source": [
    "Install using pixi:\n",
    "\n",
    "```shell\n",
    "pixi add --pypi 'earthengine_dask @ git+https://github.com/VorGeo/earthengine-dask.git'\n",
    "```\n",
    "\n",
    "Install using pip:\n",
    "```shell\n",
    "pip install git+https://github.com/VorGeo/earthengine-dask.git#egg=earthengine-dask\n",
    "```"
   ]
  },
  {
   "cell_type": "markdown",
   "metadata": {},
   "source": [
    "# How to use"
   ]
  },
  {
   "cell_type": "markdown",
   "metadata": {},
   "source": [
    "## Import Python packages"
   ]
  },
  {
   "cell_type": "code",
   "execution_count": null,
   "metadata": {},
   "outputs": [],
   "source": [
    "import altair as alt\n",
    "import ee\n",
    "from earthengine_dask.core import ClusterGEE\n",
    "import google.auth\n",
    "import pandas as pd"
   ]
  },
  {
   "cell_type": "markdown",
   "metadata": {},
   "source": [
    "## Authenticate & Initialize Earth Engine"
   ]
  },
  {
   "cell_type": "markdown",
   "metadata": {},
   "source": [
    "Get credentials and the GCP project ID, authenticating if necessary."
   ]
  },
  {
   "cell_type": "code",
   "execution_count": null,
   "metadata": {},
   "outputs": [],
   "source": [
    "try:\n",
    "    credentials, project_id = google.auth.default()\n",
    "except google.auth.exceptions.DefaultCredentialsError:\n",
    "    !gcloud auth application-default login\n",
    "    credentials, project_id = google.auth.default()\n",
    "try:\n",
    "    ee.Initialize(credentials=credentials, project=project_id)\n",
    "except google.auth.exceptions.RefreshError:\n",
    "    !gcloud auth application-default login\n",
    "    credentials, project_id = google.auth.default()\n",
    "ee.Initialize(credentials=credentials, project=project_id)"
   ]
  },
  {
   "cell_type": "markdown",
   "metadata": {},
   "source": [
    "## Start Dask Cluster\n",
    "\n",
    "Start up a Earth Engine enabled cluster. This may take a few minutes to complete."
   ]
  },
  {
   "cell_type": "code",
   "execution_count": null,
   "metadata": {},
   "outputs": [],
   "source": [
    "cluster = ClusterGEE(\n",
    "    name='test-class-cluster',\n",
    "    n_workers=2,\n",
    "    worker_cpu=8,\n",
    "    region='us-central1',\n",
    ")"
   ]
  },
  {
   "cell_type": "markdown",
   "metadata": {},
   "source": [
    "Retrieve a client for the cluster, and display it."
   ]
  },
  {
   "cell_type": "code",
   "execution_count": null,
   "metadata": {},
   "outputs": [],
   "source": [
    "client = cluster.get_client()\n",
    "client"
   ]
  },
  {
   "cell_type": "markdown",
   "metadata": {},
   "source": [
    "## Submit Jobs\n",
    "\n",
    "Test it out by:\n",
    "- Defining a function that can be distributed,\n",
    "- Submitting jobs running the function to workers, \n",
    "- Gathering the results locally, and\n",
    "- Displaying the results"
   ]
  },
  {
   "cell_type": "code",
   "execution_count": null,
   "metadata": {},
   "outputs": [],
   "source": [
    "# Get a list of countries to analyze.\n",
    "country_fc = ee.FeatureCollection('USDOS/LSIB_SIMPLE/2017')\n",
    "country_list = country_fc.aggregate_array('country_na').distinct().sort().getInfo()\n",
    "\n",
    "# Write a function that can be run by the cluster workers. \n",
    "def get_country_stats(country_name):\n",
    "    country = country_fc.filter(ee.Filter.eq('country_na', country_name))\n",
    "    elev = ee.ImageCollection(\"COPERNICUS/DEM/GLO30\").select('DEM').mosaic()\n",
    "    return {\n",
    "        'country': country_name, \n",
    "        'area_km2': country.geometry().area().multiply(1e-6).round().getInfo(), \n",
    "        'mean_elev': elev.reduceRegion(reducer=ee.Reducer.mean(),\n",
    "                                       geometry=country.geometry(),\n",
    "                                       scale=10000,\n",
    "                                       ).get('DEM').getInfo(),\n",
    "    }\n",
    "\n",
    "# Create and submit jobs among the workers.\n",
    "submitted_jobs = [\n",
    "    client.submit(get_country_stats, country, retries=5)\n",
    "    for country in country_list\n",
    "]\n",
    "\n",
    "# Gather up the results and display them.\n",
    "results = client.gather(submitted_jobs)\n",
    "df = pd.DataFrame(results)\n",
    "df"
   ]
  },
  {
   "cell_type": "markdown",
   "metadata": {},
   "source": [
    "## Shut down the cluster"
   ]
  },
  {
   "cell_type": "code",
   "execution_count": null,
   "metadata": {},
   "outputs": [],
   "source": [
    "cluster.shutdown()"
   ]
  },
  {
   "cell_type": "code",
   "execution_count": null,
   "metadata": {},
   "outputs": [],
   "source": []
  }
 ],
 "metadata": {
  "kernelspec": {
   "display_name": "Python 3 (ipykernel)",
   "language": "python",
   "name": "python3"
  },
  "language_info": {
   "codemirror_mode": {
    "name": "ipython",
    "version": 3
   },
   "file_extension": ".py",
   "mimetype": "text/x-python",
   "name": "python",
   "nbconvert_exporter": "python",
   "pygments_lexer": "ipython3",
   "version": "3.1.-1"
  }
 },
 "nbformat": 4,
 "nbformat_minor": 4
}
